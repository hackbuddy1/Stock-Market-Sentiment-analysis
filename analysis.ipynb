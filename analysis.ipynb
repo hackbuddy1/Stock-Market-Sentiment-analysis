{
 "cells": [
  {
   "cell_type": "markdown",
   "id": "f4592b07",
   "metadata": {},
   "source": [
    "# Phase 1, Step A : We will collect stock price data."
   ]
  },
  {
   "cell_type": "code",
   "execution_count": 2,
   "id": "174dbe7e",
   "metadata": {},
   "outputs": [],
   "source": [
    "import pandas as pd \n",
    "import yfinance as yf"
   ]
  },
  {
   "cell_type": "markdown",
   "id": "bb3b6a11",
   "metadata": {},
   "source": [
    "First we will set Ticker for Stock."
   ]
  },
  {
   "cell_type": "code",
   "execution_count": 3,
   "id": "f0a73bfc",
   "metadata": {},
   "outputs": [],
   "source": [
    "ticker_symbol = \"GOOGL\""
   ]
  },
  {
   "cell_type": "markdown",
   "id": "be86c2dc",
   "metadata": {},
   "source": [
    "We will create yfinance object for data of that company."
   ]
  },
  {
   "cell_type": "code",
   "execution_count": 4,
   "id": "30269a2a",
   "metadata": {},
   "outputs": [],
   "source": [
    "stock = yf.Ticker(ticker_symbol)"
   ]
  },
  {
   "cell_type": "markdown",
   "id": "b0985627",
   "metadata": {},
   "source": [
    "Now we want data of last two years and of each day so we will use period=\"2y\" and interval=\"1d\""
   ]
  },
  {
   "cell_type": "code",
   "execution_count": 5,
   "id": "7d424437",
   "metadata": {},
   "outputs": [],
   "source": [
    "stock_data = stock.history(period=\"2y\", interval=\"1d\")"
   ]
  },
  {
   "cell_type": "code",
   "execution_count": 6,
   "id": "533b01ef",
   "metadata": {},
   "outputs": [
    {
     "name": "stdout",
     "output_type": "stream",
     "text": [
      "                                 Open        High         Low       Close  \\\n",
      "Date                                                                        \n",
      "2023-09-06 00:00:00-04:00  135.209114  135.716068  132.873118  133.658417   \n",
      "2023-09-07 00:00:00-04:00  132.793586  134.771728  132.157402  134.453629   \n",
      "2023-09-08 00:00:00-04:00  134.105718  135.845285  134.046078  135.566956   \n",
      "2023-09-11 00:00:00-04:00  135.726005  136.660404  134.980476  136.103745   \n",
      "2023-09-12 00:00:00-04:00  135.447656  136.054020  134.384042  134.533142   \n",
      "\n",
      "                             Volume  Dividends  Stock Splits  \n",
      "Date                                                          \n",
      "2023-09-06 00:00:00-04:00  18684500        0.0           0.0  \n",
      "2023-09-07 00:00:00-04:00  18844300        0.0           0.0  \n",
      "2023-09-08 00:00:00-04:00  23558300        0.0           0.0  \n",
      "2023-09-11 00:00:00-04:00  20763400        0.0           0.0  \n",
      "2023-09-12 00:00:00-04:00  18405500        0.0           0.0  \n"
     ]
    }
   ],
   "source": [
    "print(stock_data.head())"
   ]
  },
  {
   "cell_type": "code",
   "execution_count": 7,
   "id": "c2fca989",
   "metadata": {},
   "outputs": [
    {
     "name": "stdout",
     "output_type": "stream",
     "text": [
      "                                 Open        High         Low       Close  \\\n",
      "Date                                                                        \n",
      "2025-04-23 00:00:00-04:00  155.421851  157.339527  153.624024  155.162170   \n",
      "2025-06-10 00:00:00-04:00  176.199997  181.110001  174.910004  178.600006   \n",
      "2024-04-12 00:00:00-04:00  157.018328  159.264849  156.203209  156.789688   \n",
      "2025-05-07 00:00:00-04:00  163.881601  164.800487  147.661232  151.196960   \n",
      "2023-11-30 00:00:00-05:00  134.244880  134.741899  130.497351  131.739899   \n",
      "2024-05-28 00:00:00-04:00  173.410002  176.213197  173.330477  175.348373   \n",
      "2025-08-07 00:00:00-04:00  197.059998  197.539993  194.330002  196.520004   \n",
      "2025-06-06 00:00:00-04:00  170.623441  174.289002  170.623441  173.469986   \n",
      "2024-07-26 00:00:00-04:00  166.344202  167.279673  163.269102  166.194931   \n",
      "2025-07-28 00:00:00-04:00  193.649994  194.050003  190.839996  192.580002   \n",
      "\n",
      "                              Volume  Dividends  Stock Splits  \n",
      "Date                                                           \n",
      "2025-04-23 00:00:00-04:00   31128800        0.0           0.0  \n",
      "2025-06-10 00:00:00-04:00   61766100        0.0           0.0  \n",
      "2024-04-12 00:00:00-04:00   25353700        0.0           0.0  \n",
      "2025-05-07 00:00:00-04:00  127490100        0.0           0.0  \n",
      "2023-11-30 00:00:00-05:00   38988300        0.0           0.0  \n",
      "2024-05-28 00:00:00-04:00   20572200        0.0           0.0  \n",
      "2025-08-07 00:00:00-04:00   26321800        0.0           0.0  \n",
      "2025-06-06 00:00:00-04:00   35731800        0.0           0.0  \n",
      "2024-07-26 00:00:00-04:00   41336900        0.0           0.0  \n",
      "2025-07-28 00:00:00-04:00   38139500        0.0           0.0  \n"
     ]
    }
   ],
   "source": [
    "print(stock_data.sample(10))"
   ]
  },
  {
   "cell_type": "code",
   "execution_count": 8,
   "id": "7d3987bb",
   "metadata": {},
   "outputs": [
    {
     "data": {
      "text/plain": [
       "(502, 7)"
      ]
     },
     "execution_count": 8,
     "metadata": {},
     "output_type": "execute_result"
    }
   ],
   "source": [
    "stock_data.shape"
   ]
  },
  {
   "cell_type": "code",
   "execution_count": 9,
   "id": "68017ddb",
   "metadata": {},
   "outputs": [
    {
     "name": "stdout",
     "output_type": "stream",
     "text": [
      "<class 'pandas.core.frame.DataFrame'>\n",
      "DatetimeIndex: 502 entries, 2023-09-06 00:00:00-04:00 to 2025-09-05 00:00:00-04:00\n",
      "Data columns (total 7 columns):\n",
      " #   Column        Non-Null Count  Dtype  \n",
      "---  ------        --------------  -----  \n",
      " 0   Open          502 non-null    float64\n",
      " 1   High          502 non-null    float64\n",
      " 2   Low           502 non-null    float64\n",
      " 3   Close         502 non-null    float64\n",
      " 4   Volume        502 non-null    int64  \n",
      " 5   Dividends     502 non-null    float64\n",
      " 6   Stock Splits  502 non-null    float64\n",
      "dtypes: float64(6), int64(1)\n",
      "memory usage: 31.4 KB\n"
     ]
    }
   ],
   "source": [
    "stock_data.info()"
   ]
  },
  {
   "cell_type": "code",
   "execution_count": 10,
   "id": "7a294276",
   "metadata": {},
   "outputs": [
    {
     "data": {
      "text/plain": [
       "Open            0\n",
       "High            0\n",
       "Low             0\n",
       "Close           0\n",
       "Volume          0\n",
       "Dividends       0\n",
       "Stock Splits    0\n",
       "dtype: int64"
      ]
     },
     "execution_count": 10,
     "metadata": {},
     "output_type": "execute_result"
    }
   ],
   "source": [
    "stock_data.isnull().sum()"
   ]
  },
  {
   "cell_type": "code",
   "execution_count": 11,
   "id": "7482780d",
   "metadata": {},
   "outputs": [
    {
     "data": {
      "text/html": [
       "<div>\n",
       "<style scoped>\n",
       "    .dataframe tbody tr th:only-of-type {\n",
       "        vertical-align: middle;\n",
       "    }\n",
       "\n",
       "    .dataframe tbody tr th {\n",
       "        vertical-align: top;\n",
       "    }\n",
       "\n",
       "    .dataframe thead th {\n",
       "        text-align: right;\n",
       "    }\n",
       "</style>\n",
       "<table border=\"1\" class=\"dataframe\">\n",
       "  <thead>\n",
       "    <tr style=\"text-align: right;\">\n",
       "      <th></th>\n",
       "      <th>Open</th>\n",
       "      <th>High</th>\n",
       "      <th>Low</th>\n",
       "      <th>Close</th>\n",
       "      <th>Volume</th>\n",
       "      <th>Dividends</th>\n",
       "      <th>Stock Splits</th>\n",
       "    </tr>\n",
       "  </thead>\n",
       "  <tbody>\n",
       "    <tr>\n",
       "      <th>count</th>\n",
       "      <td>502.000000</td>\n",
       "      <td>502.000000</td>\n",
       "      <td>502.000000</td>\n",
       "      <td>502.000000</td>\n",
       "      <td>5.020000e+02</td>\n",
       "      <td>502.000000</td>\n",
       "      <td>502.0</td>\n",
       "    </tr>\n",
       "    <tr>\n",
       "      <th>mean</th>\n",
       "      <td>163.448023</td>\n",
       "      <td>165.289027</td>\n",
       "      <td>161.745008</td>\n",
       "      <td>163.580683</td>\n",
       "      <td>3.070242e+07</td>\n",
       "      <td>0.002012</td>\n",
       "      <td>0.0</td>\n",
       "    </tr>\n",
       "    <tr>\n",
       "      <th>std</th>\n",
       "      <td>21.262249</td>\n",
       "      <td>21.562028</td>\n",
       "      <td>21.072003</td>\n",
       "      <td>21.386020</td>\n",
       "      <td>1.383093e+07</td>\n",
       "      <td>0.020083</td>\n",
       "      <td>0.0</td>\n",
       "    </tr>\n",
       "    <tr>\n",
       "      <th>min</th>\n",
       "      <td>122.147440</td>\n",
       "      <td>122.574876</td>\n",
       "      <td>119.493359</td>\n",
       "      <td>121.441673</td>\n",
       "      <td>1.024210e+07</td>\n",
       "      <td>0.000000</td>\n",
       "      <td>0.0</td>\n",
       "    </tr>\n",
       "    <tr>\n",
       "      <th>25%</th>\n",
       "      <td>145.067494</td>\n",
       "      <td>147.604761</td>\n",
       "      <td>143.860740</td>\n",
       "      <td>145.444801</td>\n",
       "      <td>2.186345e+07</td>\n",
       "      <td>0.000000</td>\n",
       "      <td>0.0</td>\n",
       "    </tr>\n",
       "    <tr>\n",
       "      <th>50%</th>\n",
       "      <td>164.392393</td>\n",
       "      <td>166.027342</td>\n",
       "      <td>162.605905</td>\n",
       "      <td>164.472298</td>\n",
       "      <td>2.704820e+07</td>\n",
       "      <td>0.000000</td>\n",
       "      <td>0.0</td>\n",
       "    </tr>\n",
       "    <tr>\n",
       "      <th>75%</th>\n",
       "      <td>176.610964</td>\n",
       "      <td>178.814999</td>\n",
       "      <td>174.738060</td>\n",
       "      <td>176.789932</td>\n",
       "      <td>3.476918e+07</td>\n",
       "      <td>0.000000</td>\n",
       "      <td>0.0</td>\n",
       "    </tr>\n",
       "    <tr>\n",
       "      <th>max</th>\n",
       "      <td>232.199997</td>\n",
       "      <td>235.759995</td>\n",
       "      <td>231.899994</td>\n",
       "      <td>235.000000</td>\n",
       "      <td>1.274901e+08</td>\n",
       "      <td>0.210000</td>\n",
       "      <td>0.0</td>\n",
       "    </tr>\n",
       "  </tbody>\n",
       "</table>\n",
       "</div>"
      ],
      "text/plain": [
       "             Open        High         Low       Close        Volume  \\\n",
       "count  502.000000  502.000000  502.000000  502.000000  5.020000e+02   \n",
       "mean   163.448023  165.289027  161.745008  163.580683  3.070242e+07   \n",
       "std     21.262249   21.562028   21.072003   21.386020  1.383093e+07   \n",
       "min    122.147440  122.574876  119.493359  121.441673  1.024210e+07   \n",
       "25%    145.067494  147.604761  143.860740  145.444801  2.186345e+07   \n",
       "50%    164.392393  166.027342  162.605905  164.472298  2.704820e+07   \n",
       "75%    176.610964  178.814999  174.738060  176.789932  3.476918e+07   \n",
       "max    232.199997  235.759995  231.899994  235.000000  1.274901e+08   \n",
       "\n",
       "        Dividends  Stock Splits  \n",
       "count  502.000000         502.0  \n",
       "mean     0.002012           0.0  \n",
       "std      0.020083           0.0  \n",
       "min      0.000000           0.0  \n",
       "25%      0.000000           0.0  \n",
       "50%      0.000000           0.0  \n",
       "75%      0.000000           0.0  \n",
       "max      0.210000           0.0  "
      ]
     },
     "execution_count": 11,
     "metadata": {},
     "output_type": "execute_result"
    }
   ],
   "source": [
    "stock_data.describe()"
   ]
  },
  {
   "cell_type": "code",
   "execution_count": 12,
   "id": "9313a50a",
   "metadata": {},
   "outputs": [
    {
     "data": {
      "text/plain": [
       "np.int64(0)"
      ]
     },
     "execution_count": 12,
     "metadata": {},
     "output_type": "execute_result"
    }
   ],
   "source": [
    "stock_data.duplicated().sum()"
   ]
  },
  {
   "cell_type": "code",
   "execution_count": 13,
   "id": "664736e6",
   "metadata": {},
   "outputs": [
    {
     "data": {
      "text/html": [
       "<div>\n",
       "<style scoped>\n",
       "    .dataframe tbody tr th:only-of-type {\n",
       "        vertical-align: middle;\n",
       "    }\n",
       "\n",
       "    .dataframe tbody tr th {\n",
       "        vertical-align: top;\n",
       "    }\n",
       "\n",
       "    .dataframe thead th {\n",
       "        text-align: right;\n",
       "    }\n",
       "</style>\n",
       "<table border=\"1\" class=\"dataframe\">\n",
       "  <thead>\n",
       "    <tr style=\"text-align: right;\">\n",
       "      <th></th>\n",
       "      <th>Open</th>\n",
       "      <th>High</th>\n",
       "      <th>Low</th>\n",
       "      <th>Close</th>\n",
       "      <th>Volume</th>\n",
       "      <th>Dividends</th>\n",
       "      <th>Stock Splits</th>\n",
       "    </tr>\n",
       "  </thead>\n",
       "  <tbody>\n",
       "    <tr>\n",
       "      <th>Open</th>\n",
       "      <td>1.000000</td>\n",
       "      <td>0.997258</td>\n",
       "      <td>0.996700</td>\n",
       "      <td>0.993894</td>\n",
       "      <td>0.050492</td>\n",
       "      <td>0.023899</td>\n",
       "      <td>NaN</td>\n",
       "    </tr>\n",
       "    <tr>\n",
       "      <th>High</th>\n",
       "      <td>0.997258</td>\n",
       "      <td>1.000000</td>\n",
       "      <td>0.996702</td>\n",
       "      <td>0.997199</td>\n",
       "      <td>0.071703</td>\n",
       "      <td>0.021898</td>\n",
       "      <td>NaN</td>\n",
       "    </tr>\n",
       "    <tr>\n",
       "      <th>Low</th>\n",
       "      <td>0.996700</td>\n",
       "      <td>0.996702</td>\n",
       "      <td>1.000000</td>\n",
       "      <td>0.997852</td>\n",
       "      <td>0.018152</td>\n",
       "      <td>0.020414</td>\n",
       "      <td>NaN</td>\n",
       "    </tr>\n",
       "    <tr>\n",
       "      <th>Close</th>\n",
       "      <td>0.993894</td>\n",
       "      <td>0.997199</td>\n",
       "      <td>0.997852</td>\n",
       "      <td>1.000000</td>\n",
       "      <td>0.040749</td>\n",
       "      <td>0.020256</td>\n",
       "      <td>NaN</td>\n",
       "    </tr>\n",
       "    <tr>\n",
       "      <th>Volume</th>\n",
       "      <td>0.050492</td>\n",
       "      <td>0.071703</td>\n",
       "      <td>0.018152</td>\n",
       "      <td>0.040749</td>\n",
       "      <td>1.000000</td>\n",
       "      <td>0.010515</td>\n",
       "      <td>NaN</td>\n",
       "    </tr>\n",
       "    <tr>\n",
       "      <th>Dividends</th>\n",
       "      <td>0.023899</td>\n",
       "      <td>0.021898</td>\n",
       "      <td>0.020414</td>\n",
       "      <td>0.020256</td>\n",
       "      <td>0.010515</td>\n",
       "      <td>1.000000</td>\n",
       "      <td>NaN</td>\n",
       "    </tr>\n",
       "    <tr>\n",
       "      <th>Stock Splits</th>\n",
       "      <td>NaN</td>\n",
       "      <td>NaN</td>\n",
       "      <td>NaN</td>\n",
       "      <td>NaN</td>\n",
       "      <td>NaN</td>\n",
       "      <td>NaN</td>\n",
       "      <td>NaN</td>\n",
       "    </tr>\n",
       "  </tbody>\n",
       "</table>\n",
       "</div>"
      ],
      "text/plain": [
       "                  Open      High       Low     Close    Volume  Dividends  \\\n",
       "Open          1.000000  0.997258  0.996700  0.993894  0.050492   0.023899   \n",
       "High          0.997258  1.000000  0.996702  0.997199  0.071703   0.021898   \n",
       "Low           0.996700  0.996702  1.000000  0.997852  0.018152   0.020414   \n",
       "Close         0.993894  0.997199  0.997852  1.000000  0.040749   0.020256   \n",
       "Volume        0.050492  0.071703  0.018152  0.040749  1.000000   0.010515   \n",
       "Dividends     0.023899  0.021898  0.020414  0.020256  0.010515   1.000000   \n",
       "Stock Splits       NaN       NaN       NaN       NaN       NaN        NaN   \n",
       "\n",
       "              Stock Splits  \n",
       "Open                   NaN  \n",
       "High                   NaN  \n",
       "Low                    NaN  \n",
       "Close                  NaN  \n",
       "Volume                 NaN  \n",
       "Dividends              NaN  \n",
       "Stock Splits           NaN  "
      ]
     },
     "execution_count": 13,
     "metadata": {},
     "output_type": "execute_result"
    }
   ],
   "source": [
    "stock_data.corr(numeric_only=True)"
   ]
  },
  {
   "cell_type": "markdown",
   "id": "3bc881e1",
   "metadata": {},
   "source": [
    "We will drop stock split column because it has no relation with other columns"
   ]
  },
  {
   "cell_type": "code",
   "execution_count": 14,
   "id": "5abb99c7",
   "metadata": {},
   "outputs": [],
   "source": [
    "stock_data.drop(columns = ['Stock Splits'], inplace = True)"
   ]
  },
  {
   "cell_type": "code",
   "execution_count": 15,
   "id": "6a9d2103",
   "metadata": {},
   "outputs": [
    {
     "data": {
      "text/html": [
       "<div>\n",
       "<style scoped>\n",
       "    .dataframe tbody tr th:only-of-type {\n",
       "        vertical-align: middle;\n",
       "    }\n",
       "\n",
       "    .dataframe tbody tr th {\n",
       "        vertical-align: top;\n",
       "    }\n",
       "\n",
       "    .dataframe thead th {\n",
       "        text-align: right;\n",
       "    }\n",
       "</style>\n",
       "<table border=\"1\" class=\"dataframe\">\n",
       "  <thead>\n",
       "    <tr style=\"text-align: right;\">\n",
       "      <th></th>\n",
       "      <th>Open</th>\n",
       "      <th>High</th>\n",
       "      <th>Low</th>\n",
       "      <th>Close</th>\n",
       "      <th>Volume</th>\n",
       "      <th>Dividends</th>\n",
       "    </tr>\n",
       "    <tr>\n",
       "      <th>Date</th>\n",
       "      <th></th>\n",
       "      <th></th>\n",
       "      <th></th>\n",
       "      <th></th>\n",
       "      <th></th>\n",
       "      <th></th>\n",
       "    </tr>\n",
       "  </thead>\n",
       "  <tbody>\n",
       "    <tr>\n",
       "      <th>2023-09-06 00:00:00-04:00</th>\n",
       "      <td>135.209114</td>\n",
       "      <td>135.716068</td>\n",
       "      <td>132.873118</td>\n",
       "      <td>133.658417</td>\n",
       "      <td>18684500</td>\n",
       "      <td>0.0</td>\n",
       "    </tr>\n",
       "    <tr>\n",
       "      <th>2023-09-07 00:00:00-04:00</th>\n",
       "      <td>132.793586</td>\n",
       "      <td>134.771728</td>\n",
       "      <td>132.157402</td>\n",
       "      <td>134.453629</td>\n",
       "      <td>18844300</td>\n",
       "      <td>0.0</td>\n",
       "    </tr>\n",
       "    <tr>\n",
       "      <th>2023-09-08 00:00:00-04:00</th>\n",
       "      <td>134.105718</td>\n",
       "      <td>135.845285</td>\n",
       "      <td>134.046078</td>\n",
       "      <td>135.566956</td>\n",
       "      <td>23558300</td>\n",
       "      <td>0.0</td>\n",
       "    </tr>\n",
       "    <tr>\n",
       "      <th>2023-09-11 00:00:00-04:00</th>\n",
       "      <td>135.726005</td>\n",
       "      <td>136.660404</td>\n",
       "      <td>134.980476</td>\n",
       "      <td>136.103745</td>\n",
       "      <td>20763400</td>\n",
       "      <td>0.0</td>\n",
       "    </tr>\n",
       "    <tr>\n",
       "      <th>2023-09-12 00:00:00-04:00</th>\n",
       "      <td>135.447656</td>\n",
       "      <td>136.054020</td>\n",
       "      <td>134.384042</td>\n",
       "      <td>134.533142</td>\n",
       "      <td>18405500</td>\n",
       "      <td>0.0</td>\n",
       "    </tr>\n",
       "  </tbody>\n",
       "</table>\n",
       "</div>"
      ],
      "text/plain": [
       "                                 Open        High         Low       Close  \\\n",
       "Date                                                                        \n",
       "2023-09-06 00:00:00-04:00  135.209114  135.716068  132.873118  133.658417   \n",
       "2023-09-07 00:00:00-04:00  132.793586  134.771728  132.157402  134.453629   \n",
       "2023-09-08 00:00:00-04:00  134.105718  135.845285  134.046078  135.566956   \n",
       "2023-09-11 00:00:00-04:00  135.726005  136.660404  134.980476  136.103745   \n",
       "2023-09-12 00:00:00-04:00  135.447656  136.054020  134.384042  134.533142   \n",
       "\n",
       "                             Volume  Dividends  \n",
       "Date                                            \n",
       "2023-09-06 00:00:00-04:00  18684500        0.0  \n",
       "2023-09-07 00:00:00-04:00  18844300        0.0  \n",
       "2023-09-08 00:00:00-04:00  23558300        0.0  \n",
       "2023-09-11 00:00:00-04:00  20763400        0.0  \n",
       "2023-09-12 00:00:00-04:00  18405500        0.0  "
      ]
     },
     "execution_count": 15,
     "metadata": {},
     "output_type": "execute_result"
    }
   ],
   "source": [
    "stock_data.head()"
   ]
  },
  {
   "cell_type": "markdown",
   "id": "968afba3",
   "metadata": {},
   "source": [
    "# Phase 1, Step B: News Headlines Collection"
   ]
  },
  {
   "cell_type": "markdown",
   "id": "d0049dec",
   "metadata": {},
   "source": [
    "Now we will collect past 1 month news headlines from google."
   ]
  },
  {
   "cell_type": "code",
   "execution_count": 16,
   "id": "93150d3a",
   "metadata": {},
   "outputs": [],
   "source": [
    "from newsapi import NewsApiClient"
   ]
  },
  {
   "cell_type": "markdown",
   "id": "14904b7d",
   "metadata": {},
   "source": [
    "We will paste the Api key we got from newsapi.org"
   ]
  },
  {
   "cell_type": "code",
   "execution_count": 17,
   "id": "b7ce8d7c",
   "metadata": {},
   "outputs": [],
   "source": [
    "api_key = \"f015f90d92974391bedd683a07a2158b\""
   ]
  },
  {
   "cell_type": "markdown",
   "id": "40e2b191",
   "metadata": {},
   "source": [
    "We will initialize NewsAPI."
   ]
  },
  {
   "cell_type": "code",
   "execution_count": 18,
   "id": "aef26925",
   "metadata": {},
   "outputs": [],
   "source": [
    "newsapi = NewsApiClient(api_key=api_key)"
   ]
  },
  {
   "cell_type": "markdown",
   "id": "9423b27d",
   "metadata": {},
   "source": [
    "We want news related to Google also we want last 1 month data and for every request we can get only 100 articles max."
   ]
  },
  {
   "cell_type": "code",
   "execution_count": 19,
   "id": "5d561caf",
   "metadata": {},
   "outputs": [],
   "source": [
    "all_articles = newsapi.get_everything(q=\"Google OR Alphabet\", language=\"en\", sort_by=\"relevancy\", page_size=100)"
   ]
  },
  {
   "cell_type": "markdown",
   "id": "50595b9f",
   "metadata": {},
   "source": [
    "we will use all_articles dictionary and it has some key called articles having list of news articles. Each article is like dictionary in which there are keys like 'publishedAt', 'title', 'description'. We will take only two things date(published) and headline(new headline)."
   ]
  },
  {
   "cell_type": "code",
   "execution_count": 20,
   "id": "ac07a433",
   "metadata": {},
   "outputs": [],
   "source": [
    "news_data = [] \n",
    "for article in all_articles['articles']:\n",
    "    news_data.append({\n",
    "        'date': article['publishedAt'],\n",
    "        'headline': article['title']\n",
    "    })"
   ]
  },
  {
   "cell_type": "code",
   "execution_count": 21,
   "id": "9851a046",
   "metadata": {},
   "outputs": [],
   "source": [
    "news_df = pd.DataFrame(news_data)"
   ]
  },
  {
   "cell_type": "code",
   "execution_count": 22,
   "id": "597c30d9",
   "metadata": {},
   "outputs": [
    {
     "data": {
      "text/html": [
       "<div>\n",
       "<style scoped>\n",
       "    .dataframe tbody tr th:only-of-type {\n",
       "        vertical-align: middle;\n",
       "    }\n",
       "\n",
       "    .dataframe tbody tr th {\n",
       "        vertical-align: top;\n",
       "    }\n",
       "\n",
       "    .dataframe thead th {\n",
       "        text-align: right;\n",
       "    }\n",
       "</style>\n",
       "<table border=\"1\" class=\"dataframe\">\n",
       "  <thead>\n",
       "    <tr style=\"text-align: right;\">\n",
       "      <th></th>\n",
       "      <th>date</th>\n",
       "      <th>headline</th>\n",
       "    </tr>\n",
       "  </thead>\n",
       "  <tbody>\n",
       "    <tr>\n",
       "      <th>0</th>\n",
       "      <td>2025-08-12T16:20:02Z</td>\n",
       "      <td>Perplexity Wants to Buy Google Chrome for $34....</td>\n",
       "    </tr>\n",
       "    <tr>\n",
       "      <th>1</th>\n",
       "      <td>2025-08-07T14:52:08Z</td>\n",
       "      <td>Google TV’s uncertain future</td>\n",
       "    </tr>\n",
       "    <tr>\n",
       "      <th>2</th>\n",
       "      <td>2025-08-26T13:36:50Z</td>\n",
       "      <td>Google is building a Duolingo rival into the T...</td>\n",
       "    </tr>\n",
       "    <tr>\n",
       "      <th>3</th>\n",
       "      <td>2025-08-12T16:50:26Z</td>\n",
       "      <td>Perplexity offers to buy Google Chrome for $34...</td>\n",
       "    </tr>\n",
       "    <tr>\n",
       "      <th>4</th>\n",
       "      <td>2025-08-22T12:49:40Z</td>\n",
       "      <td>Google made it easier to edit your Drive videos</td>\n",
       "    </tr>\n",
       "  </tbody>\n",
       "</table>\n",
       "</div>"
      ],
      "text/plain": [
       "                   date                                           headline\n",
       "0  2025-08-12T16:20:02Z  Perplexity Wants to Buy Google Chrome for $34....\n",
       "1  2025-08-07T14:52:08Z                       Google TV’s uncertain future\n",
       "2  2025-08-26T13:36:50Z  Google is building a Duolingo rival into the T...\n",
       "3  2025-08-12T16:50:26Z  Perplexity offers to buy Google Chrome for $34...\n",
       "4  2025-08-22T12:49:40Z    Google made it easier to edit your Drive videos"
      ]
     },
     "execution_count": 22,
     "metadata": {},
     "output_type": "execute_result"
    }
   ],
   "source": [
    "news_df.head()"
   ]
  },
  {
   "cell_type": "code",
   "execution_count": 23,
   "id": "8a45c013",
   "metadata": {},
   "outputs": [
    {
     "data": {
      "text/html": [
       "<div>\n",
       "<style scoped>\n",
       "    .dataframe tbody tr th:only-of-type {\n",
       "        vertical-align: middle;\n",
       "    }\n",
       "\n",
       "    .dataframe tbody tr th {\n",
       "        vertical-align: top;\n",
       "    }\n",
       "\n",
       "    .dataframe thead th {\n",
       "        text-align: right;\n",
       "    }\n",
       "</style>\n",
       "<table border=\"1\" class=\"dataframe\">\n",
       "  <thead>\n",
       "    <tr style=\"text-align: right;\">\n",
       "      <th></th>\n",
       "      <th>date</th>\n",
       "      <th>headline</th>\n",
       "    </tr>\n",
       "  </thead>\n",
       "  <tbody>\n",
       "    <tr>\n",
       "      <th>count</th>\n",
       "      <td>100</td>\n",
       "      <td>100</td>\n",
       "    </tr>\n",
       "    <tr>\n",
       "      <th>unique</th>\n",
       "      <td>100</td>\n",
       "      <td>99</td>\n",
       "    </tr>\n",
       "    <tr>\n",
       "      <th>top</th>\n",
       "      <td>2025-08-12T16:20:02Z</td>\n",
       "      <td>Google Pixel 10 series: Your Ultimate Guide</td>\n",
       "    </tr>\n",
       "    <tr>\n",
       "      <th>freq</th>\n",
       "      <td>1</td>\n",
       "      <td>2</td>\n",
       "    </tr>\n",
       "  </tbody>\n",
       "</table>\n",
       "</div>"
      ],
      "text/plain": [
       "                        date                                     headline\n",
       "count                    100                                          100\n",
       "unique                   100                                           99\n",
       "top     2025-08-12T16:20:02Z  Google Pixel 10 series: Your Ultimate Guide\n",
       "freq                       1                                            2"
      ]
     },
     "execution_count": 23,
     "metadata": {},
     "output_type": "execute_result"
    }
   ],
   "source": [
    "news_df.describe()"
   ]
  },
  {
   "cell_type": "code",
   "execution_count": 24,
   "id": "79558c9b",
   "metadata": {},
   "outputs": [
    {
     "name": "stdout",
     "output_type": "stream",
     "text": [
      "<class 'pandas.core.frame.DataFrame'>\n",
      "RangeIndex: 100 entries, 0 to 99\n",
      "Data columns (total 2 columns):\n",
      " #   Column    Non-Null Count  Dtype \n",
      "---  ------    --------------  ----- \n",
      " 0   date      100 non-null    object\n",
      " 1   headline  100 non-null    object\n",
      "dtypes: object(2)\n",
      "memory usage: 1.7+ KB\n"
     ]
    }
   ],
   "source": [
    "news_df.info()"
   ]
  },
  {
   "cell_type": "markdown",
   "id": "1d66f341",
   "metadata": {},
   "source": [
    "We can see the data type of date is object so we will change the data typr to dat time"
   ]
  },
  {
   "cell_type": "code",
   "execution_count": 25,
   "id": "5620831b",
   "metadata": {},
   "outputs": [],
   "source": [
    "news_df['date'] = pd.to_datetime(news_df['date'])"
   ]
  },
  {
   "cell_type": "code",
   "execution_count": 26,
   "id": "bbdb67b3",
   "metadata": {},
   "outputs": [
    {
     "name": "stdout",
     "output_type": "stream",
     "text": [
      "<class 'pandas.core.frame.DataFrame'>\n",
      "RangeIndex: 100 entries, 0 to 99\n",
      "Data columns (total 2 columns):\n",
      " #   Column    Non-Null Count  Dtype              \n",
      "---  ------    --------------  -----              \n",
      " 0   date      100 non-null    datetime64[ns, UTC]\n",
      " 1   headline  100 non-null    object             \n",
      "dtypes: datetime64[ns, UTC](1), object(1)\n",
      "memory usage: 1.7+ KB\n"
     ]
    }
   ],
   "source": [
    "news_df.info()"
   ]
  },
  {
   "cell_type": "code",
   "execution_count": 27,
   "id": "feba76ad",
   "metadata": {},
   "outputs": [
    {
     "data": {
      "text/html": [
       "<div>\n",
       "<style scoped>\n",
       "    .dataframe tbody tr th:only-of-type {\n",
       "        vertical-align: middle;\n",
       "    }\n",
       "\n",
       "    .dataframe tbody tr th {\n",
       "        vertical-align: top;\n",
       "    }\n",
       "\n",
       "    .dataframe thead th {\n",
       "        text-align: right;\n",
       "    }\n",
       "</style>\n",
       "<table border=\"1\" class=\"dataframe\">\n",
       "  <thead>\n",
       "    <tr style=\"text-align: right;\">\n",
       "      <th></th>\n",
       "      <th>date</th>\n",
       "      <th>headline</th>\n",
       "    </tr>\n",
       "  </thead>\n",
       "  <tbody>\n",
       "    <tr>\n",
       "      <th>41</th>\n",
       "      <td>2025-08-26 15:13:01+00:00</td>\n",
       "      <td>Report: Apple Discussed Buying Mistral AI and ...</td>\n",
       "    </tr>\n",
       "    <tr>\n",
       "      <th>64</th>\n",
       "      <td>2025-08-20 22:01:23+00:00</td>\n",
       "      <td>Google Photos Gets Conversational Editing</td>\n",
       "    </tr>\n",
       "    <tr>\n",
       "      <th>93</th>\n",
       "      <td>2025-08-11 16:42:52+00:00</td>\n",
       "      <td>How many software updates will the Google Pixe...</td>\n",
       "    </tr>\n",
       "    <tr>\n",
       "      <th>9</th>\n",
       "      <td>2025-08-20 16:59:47+00:00</td>\n",
       "      <td>Gemini for Home is Google’s biggest smart home...</td>\n",
       "    </tr>\n",
       "    <tr>\n",
       "      <th>92</th>\n",
       "      <td>2025-08-20 15:07:30+00:00</td>\n",
       "      <td>Amazon’s next tablet might run Android</td>\n",
       "    </tr>\n",
       "    <tr>\n",
       "      <th>7</th>\n",
       "      <td>2025-08-06 17:31:47+00:00</td>\n",
       "      <td>Google swears it isn’t destroying the web with...</td>\n",
       "    </tr>\n",
       "    <tr>\n",
       "      <th>24</th>\n",
       "      <td>2025-08-20 15:37:37+00:00</td>\n",
       "      <td>The Google Pixel 10 and 10 Pro come with magne...</td>\n",
       "    </tr>\n",
       "    <tr>\n",
       "      <th>98</th>\n",
       "      <td>2025-08-22 17:04:00+00:00</td>\n",
       "      <td>Which Google Pixel 10 model should you buy?</td>\n",
       "    </tr>\n",
       "    <tr>\n",
       "      <th>29</th>\n",
       "      <td>2025-08-22 11:52:22+00:00</td>\n",
       "      <td>Google’s first Gemini smart home speaker detai...</td>\n",
       "    </tr>\n",
       "    <tr>\n",
       "      <th>73</th>\n",
       "      <td>2025-08-20 17:12:00+00:00</td>\n",
       "      <td>Best Google Pixel 10 Pro cases 2025</td>\n",
       "    </tr>\n",
       "    <tr>\n",
       "      <th>62</th>\n",
       "      <td>2025-08-16 14:42:00+00:00</td>\n",
       "      <td>Google's Tensor shift could signal a new era f...</td>\n",
       "    </tr>\n",
       "    <tr>\n",
       "      <th>44</th>\n",
       "      <td>2025-08-20 02:35:42+00:00</td>\n",
       "      <td>Google’s Pixel Buds 2A add Gemini, noise cance...</td>\n",
       "    </tr>\n",
       "    <tr>\n",
       "      <th>33</th>\n",
       "      <td>2025-08-21 12:32:27+00:00</td>\n",
       "      <td>Google’s next big Android update can force dar...</td>\n",
       "    </tr>\n",
       "    <tr>\n",
       "      <th>91</th>\n",
       "      <td>2025-08-15 12:35:49+00:00</td>\n",
       "      <td>I talked to Sam Altman about the GPT-5 launch ...</td>\n",
       "    </tr>\n",
       "    <tr>\n",
       "      <th>36</th>\n",
       "      <td>2025-09-03 15:17:19+00:00</td>\n",
       "      <td>Google’s best-ever 4K streamer is within $1 of...</td>\n",
       "    </tr>\n",
       "  </tbody>\n",
       "</table>\n",
       "</div>"
      ],
      "text/plain": [
       "                        date  \\\n",
       "41 2025-08-26 15:13:01+00:00   \n",
       "64 2025-08-20 22:01:23+00:00   \n",
       "93 2025-08-11 16:42:52+00:00   \n",
       "9  2025-08-20 16:59:47+00:00   \n",
       "92 2025-08-20 15:07:30+00:00   \n",
       "7  2025-08-06 17:31:47+00:00   \n",
       "24 2025-08-20 15:37:37+00:00   \n",
       "98 2025-08-22 17:04:00+00:00   \n",
       "29 2025-08-22 11:52:22+00:00   \n",
       "73 2025-08-20 17:12:00+00:00   \n",
       "62 2025-08-16 14:42:00+00:00   \n",
       "44 2025-08-20 02:35:42+00:00   \n",
       "33 2025-08-21 12:32:27+00:00   \n",
       "91 2025-08-15 12:35:49+00:00   \n",
       "36 2025-09-03 15:17:19+00:00   \n",
       "\n",
       "                                             headline  \n",
       "41  Report: Apple Discussed Buying Mistral AI and ...  \n",
       "64          Google Photos Gets Conversational Editing  \n",
       "93  How many software updates will the Google Pixe...  \n",
       "9   Gemini for Home is Google’s biggest smart home...  \n",
       "92             Amazon’s next tablet might run Android  \n",
       "7   Google swears it isn’t destroying the web with...  \n",
       "24  The Google Pixel 10 and 10 Pro come with magne...  \n",
       "98        Which Google Pixel 10 model should you buy?  \n",
       "29  Google’s first Gemini smart home speaker detai...  \n",
       "73                Best Google Pixel 10 Pro cases 2025  \n",
       "62  Google's Tensor shift could signal a new era f...  \n",
       "44  Google’s Pixel Buds 2A add Gemini, noise cance...  \n",
       "33  Google’s next big Android update can force dar...  \n",
       "91  I talked to Sam Altman about the GPT-5 launch ...  \n",
       "36  Google’s best-ever 4K streamer is within $1 of...  "
      ]
     },
     "execution_count": 27,
     "metadata": {},
     "output_type": "execute_result"
    }
   ],
   "source": [
    "news_df.sample(15)"
   ]
  },
  {
   "cell_type": "markdown",
   "id": "2e79067c",
   "metadata": {},
   "source": [
    "# Phase 2 : Data Ready"
   ]
  },
  {
   "cell_type": "markdown",
   "id": "072efde9",
   "metadata": {},
   "source": [
    "Step A: Volatility(if the stock has very high fluctuations then the volatility is very high otherwise it is low) checking"
   ]
  },
  {
   "cell_type": "markdown",
   "id": "148e00da",
   "metadata": {},
   "source": [
    "First we will calculate how much stock increases per day.\n",
    "1. For that we will use *Log Returns*, because log returns (log(today/yesterday)) is better than simple percentage change (today-yesterday) / yesterday) because it is statistically better for time series analysisand it also normalizes data(i.e. a $10 stock 10% change is same as $1000 stock 10% change.)\n",
    "\n",
    "2. Now we will calculate the standard deviation of log returns of N days. Standard deviation tells how much data is spread out from mean. If standard deviation is high then the stock is very volatile otherwise it is not."
   ]
  },
  {
   "cell_type": "code",
   "execution_count": 28,
   "id": "3260c3e5",
   "metadata": {},
   "outputs": [],
   "source": [
    "import numpy as np \n",
    "# Volatility Calculation\n",
    "\n",
    "# Log Returns\n",
    "# we are taking log of today's close price and subtracting log of yesterday's(shift(1)) close price from it.\n",
    "stock_data['log_return'] = np.log(stock_data['Close']) - np.log(stock_data['Close'].shift(1))\n",
    "\n",
    "# Rolling Volatility\n",
    "# we are taking standard deviation of log_return for last 7 days(window = 7).\n",
    "stock_data['volatility'] = stock_data['log_return'].rolling(window=7).std()"
   ]
  },
  {
   "cell_type": "code",
   "execution_count": 29,
   "id": "84e66f80",
   "metadata": {},
   "outputs": [],
   "source": [
    "# For thw first row there is no previous day so log_return will be NaN.\n",
    "# For first 6 rows there is no 7 previous days so volatility will be NaN.\n",
    "# We will remove these rows.\n",
    "stock_data.dropna(inplace=True)"
   ]
  },
  {
   "cell_type": "code",
   "execution_count": 30,
   "id": "b6490eb2",
   "metadata": {},
   "outputs": [
    {
     "name": "stdout",
     "output_type": "stream",
     "text": [
      "Stock Data with Volatility:\n",
      "                                Close  log_return  volatility\n",
      "Date                                                         \n",
      "2023-09-15 00:00:00-04:00  136.580887   -0.005082    0.008330\n",
      "2023-09-18 00:00:00-04:00  137.386063    0.005878    0.008327\n",
      "2023-09-19 00:00:00-04:00  137.217056   -0.001231    0.008115\n",
      "2023-09-20 00:00:00-04:00  132.942703   -0.031646    0.014849\n",
      "2023-09-21 00:00:00-04:00  129.662384   -0.024984    0.016818\n"
     ]
    }
   ],
   "source": [
    "print(\"Stock Data with Volatility:\")\n",
    "print(stock_data[['Close', 'log_return', 'volatility']].head())"
   ]
  },
  {
   "cell_type": "markdown",
   "id": "fc4fba89",
   "metadata": {},
   "source": [
    "Step B: We want to give a number to every headline news so that we can tell how much it is positive or negative.\n",
    "For this we will use VADER(Valence Aware Dictionary and Sentiment Reasoner) library.\n",
    "1. It also reads punctutaion i.e. it will read \"Google's new phone is amazing!!\" more positively then \"Google's new phone is amazing\".\n",
    "2. It also reads capitalization i.e. it will read \"The company faces HUGE losses\" more negatively then \"The company faces huge losses\".\n",
    "3. It also reads \"but\" type words.\n",
    "\n",
    "VADER gives us 4 type of scores : positive, negative, neutral and compound. We will use compound score. It will be between -1(extreme negative) se +1(extreme positive)."
   ]
  },
  {
   "cell_type": "code",
   "execution_count": 31,
   "id": "faa6a83e",
   "metadata": {},
   "outputs": [],
   "source": [
    "from vaderSentiment.vaderSentiment import SentimentIntensityAnalyzer\n",
    "analyzer = SentimentIntensityAnalyzer()"
   ]
  },
  {
   "cell_type": "markdown",
   "id": "8b11b643",
   "metadata": {},
   "source": [
    "Now we will create a function that will give compound score of every headline."
   ]
  },
  {
   "cell_type": "code",
   "execution_count": 32,
   "id": "1fdc7176",
   "metadata": {},
   "outputs": [],
   "source": [
    "def get_vader_score(text):\n",
    "    # polarity_scores function returns a dictionary with negative, neutral, positive, and compound scores.\n",
    "    # We are interested in the compound score which is a normalized score between -1 (most negative) and +1 (most positive).\n",
    "    score = analyzer.polarity_scores(text)['compound']\n",
    "    return score"
   ]
  },
  {
   "cell_type": "code",
   "execution_count": 33,
   "id": "8c040cf0",
   "metadata": {},
   "outputs": [],
   "source": [
    "# Applying the function to the 'headline' column to get sentiment scores.\n",
    "news_df['sentiment_score'] = news_df['headline'].apply(get_vader_score)"
   ]
  },
  {
   "cell_type": "code",
   "execution_count": 34,
   "id": "8350581f",
   "metadata": {},
   "outputs": [
    {
     "name": "stdout",
     "output_type": "stream",
     "text": [
      "\n",
      "News Data with Sentiment Score:\n",
      "                                            headline  sentiment_score\n",
      "0  Perplexity Wants to Buy Google Chrome for $34....           0.0000\n",
      "1                       Google TV’s uncertain future          -0.2960\n",
      "2  Google is building a Duolingo rival into the T...           0.0000\n",
      "3  Perplexity offers to buy Google Chrome for $34...           0.0000\n",
      "4    Google made it easier to edit your Drive videos           0.4215\n"
     ]
    }
   ],
   "source": [
    "print(\"\\nNews Data with Sentiment Score:\")\n",
    "print(news_df[['headline', 'sentiment_score']].head())"
   ]
  },
  {
   "cell_type": "markdown",
   "id": "9bf98494",
   "metadata": {},
   "source": [
    "# Phase 3 : We will merge data."
   ]
  },
  {
   "cell_type": "markdown",
   "id": "d866f732",
   "metadata": {},
   "source": [
    "Now we have two different tables stock_data and new_df. We have to bring these data in one table so that we can compare how sentiment and volatility related.\n",
    "\n",
    "We will use *\"average sentiment score\"*, like we will use 10 different news headlines.\n",
    "\n",
    "1. Group and Aggregate : We will create group of news_df according to date. Then for each date we will calculate average(mean) of sentiment_score. We will get final sentiment score of each days.\n",
    "\n",
    "2. Then we will merge new daily_sentiment table with stock_data on the basis of date."
   ]
  },
  {
   "cell_type": "code",
   "execution_count": 35,
   "id": "9ee1c06f",
   "metadata": {},
   "outputs": [],
   "source": [
    "# Data Merging\n",
    "# Step1 : We will calculate average sentiment score for each date.\n",
    "# .groupby('date') will group the data according to date.\n",
    "# .mean() will calculate mean of sentiment_score for each date.\n",
    "# .reset_index() will reset the index of the new dataframe.\n",
    "\n",
    "daily_sentiment = news_df.groupby('date')['sentiment_score'].mean().reset_index() "
   ]
  },
  {
   "cell_type": "code",
   "execution_count": 36,
   "id": "727bd9d4",
   "metadata": {},
   "outputs": [
    {
     "name": "stdout",
     "output_type": "stream",
     "text": [
      "Daily Average Sentiment Scores:\n",
      "                       date  sentiment_score\n",
      "0 2025-08-05 13:23:33+00:00           0.0000\n",
      "1 2025-08-05 15:54:22+00:00           0.4019\n",
      "2 2025-08-05 23:48:06+00:00           0.0000\n",
      "3 2025-08-06 17:31:47+00:00          -0.5267\n",
      "4 2025-08-07 14:52:08+00:00          -0.2960\n"
     ]
    }
   ],
   "source": [
    "print(\"Daily Average Sentiment Scores:\")\n",
    "print(daily_sentiment.head())"
   ]
  },
  {
   "cell_type": "code",
   "execution_count": 37,
   "id": "d13e1b71",
   "metadata": {},
   "outputs": [
    {
     "name": "stdout",
     "output_type": "stream",
     "text": [
      "\n",
      "--- Final Merged Data ---\n",
      "           Date       Close  volatility  sentiment_score\n",
      "139  2024-04-05  151.590851    0.017813              0.0\n",
      "151  2024-04-23  157.316513    0.012350              0.0\n",
      "332  2025-01-13  190.559570    0.013320              0.0\n",
      "188  2024-06-14  175.937744    0.010532              0.0\n",
      "19   2023-10-12  138.141525    0.012521              0.0\n",
      "308  2024-12-05  172.035721    0.009888              0.0\n",
      "215  2024-07-25  166.473587    0.024067              0.0\n",
      "124  2024-03-14  142.246887    0.011397              0.0\n",
      "105  2024-02-15  141.918869    0.015328              0.0\n",
      "374  2025-03-14  165.289902    0.023694              0.0\n"
     ]
    },
    {
     "name": "stderr",
     "output_type": "stream",
     "text": [
      "C:\\Users\\upadh\\AppData\\Local\\Temp\\ipykernel_33880\\114348881.py:21: FutureWarning: A value is trying to be set on a copy of a DataFrame or Series through chained assignment using an inplace method.\n",
      "The behavior will change in pandas 3.0. This inplace method will never work because the intermediate object on which we are setting values always behaves as a copy.\n",
      "\n",
      "For example, when doing 'df[col].method(value, inplace=True)', try using 'df.method({col: value}, inplace=True)' or df[col] = df[col].method(value) instead, to perform the operation inplace on the original object.\n",
      "\n",
      "\n",
      "  merged_data['sentiment_score'].fillna(0, inplace=True)\n"
     ]
    }
   ],
   "source": [
    "# Step 2 : We will merge daily_sentiment with stock_data on the basis of date.\n",
    "# First we will reset stock_data index so that it becomes normal column.\n",
    "stock_data.reset_index(inplace=True)\n",
    "\n",
    "# 'date' column in daily_sentiment and stock_data should be of same type.\n",
    "stock_data[\"Date\"] = pd.to_datetime(stock_data[\"Date\"]).dt.date\n",
    "\n",
    "# daily_sentiment['date'] is already in datetime format but it has time also. We will convert it to date only.\n",
    "daily_sentiment['date'] = pd.to_datetime(daily_sentiment['date']).dt.date\n",
    "\n",
    "# Merging\n",
    "# left_on and right_on specify the columns to join on from the left and right DataFrames respectively.\n",
    "# how='left' means we want to keep all rows from stock_data and only matching rows from daily_sentiment.\n",
    "merged_data = pd.merge(stock_data, daily_sentiment, left_on='Date', right_on='date', how='left')\n",
    "\n",
    "# After merging, we don't need the 'date' column from daily_sentiment anymore.\n",
    "# Also, there might be some dates in stock_data for which there are no news headlines,\n",
    "merged_data.drop(columns=['date'], inplace=True)\n",
    "\n",
    "# so the sentiment_score for those dates will be NaN. We can fill those NaN values with 0 (neutral sentiment).\n",
    "merged_data['sentiment_score'].fillna(0, inplace=True)\n",
    "\n",
    "print(\"\\n--- Final Merged Data ---\")\n",
    "print(merged_data[['Date', 'Close', 'volatility', 'sentiment_score']].sample(10))"
   ]
  },
  {
   "cell_type": "markdown",
   "id": "9aef5718",
   "metadata": {},
   "source": [
    "# Phase 4: Analysis and Visualization"
   ]
  },
  {
   "cell_type": "code",
   "execution_count": 38,
   "id": "f2abd901",
   "metadata": {},
   "outputs": [],
   "source": [
    "import matplotlib.pyplot as plt\n",
    "import seaborn as sns"
   ]
  },
  {
   "cell_type": "code",
   "execution_count": 39,
   "id": "5b1ac8f4",
   "metadata": {},
   "outputs": [
    {
     "data": {
      "image/png": "[encoded data removed]",
      "text/plain": [
       "<Figure size 1500x700 with 2 Axes>"
      ]
     },
     "metadata": {},
     "output_type": "display_data"
    }
   ],
   "source": [
    "# we will first look into those dates for which we have news data.\n",
    "# Pehle news ki pehli date nikalte hain.\n",
    "first_news_date = daily_sentiment['date'].min()\n",
    "\n",
    "# Now we filter our merged data from this date.\n",
    "zoomed_df = merged_data[merged_data['Date'] >= first_news_date].copy()\n",
    "\n",
    "\n",
    "# Smooth the Sentiment Score\n",
    "# we will use 7-day rolling average to smooth the sentiment score.\n",
    "zoomed_df['sentiment_smoothed'] = zoomed_df['sentiment_score'].rolling(window=7).mean()\n",
    "\n",
    "\n",
    "# We will create a new, chart.\n",
    "\n",
    "fig, ax1 = plt.subplots(figsize=(15, 7))\n",
    "\n",
    "# We will use 'zoomed_df' for X-axis now.\n",
    "ax1.plot(zoomed_df['Date'], zoomed_df['volatility'], color='blue', label='Volatility')\n",
    "ax1.set_xlabel('Date')\n",
    "ax1.set_ylabel('Volatility', color='blue')\n",
    "ax1.tick_params(axis='y', labelcolor='blue')\n",
    "\n",
    "# Second Y-axis for Sentiment Score\n",
    "ax2 = ax1.twinx()\n",
    "\n",
    "# We will use the new 'sentiment_smoothed' instead of original 'sentiment_score' for Y-axis.\n",
    "ax2.plot(zoomed_df['Date'], zoomed_df['sentiment_smoothed'], color='red', label='Smoothed Sentiment')\n",
    "ax2.set_ylabel('7-Day Average Sentiment Score', color='red')\n",
    "ax2.tick_params(axis='y', labelcolor='red')\n",
    "\n",
    "# Adding horizontal line at y=0 for sentiment score\n",
    "ax2.axhline(y=0, color='grey', linestyle='--')\n",
    "\n",
    "plt.title(f'Stock Volatility vs. News Sentiment (Last ~30 Days for {ticker_symbol})')\n",
    "plt.show()"
   ]
  },
  {
   "cell_type": "markdown",
   "id": "74dfccd4",
   "metadata": {},
   "source": [
    "1. The Blue line(Volatility) gives us the risk factor. When Blue line goes up it means there is lot of movement in the stock and the risk is increasing.And when blue line goes down it means there is less movement in stock and the risk is less.\n",
    "\n",
    "2. The Red line(Sentiment Score) gives us the market mood. When Red line goes above the dashed line it means the news is positive and people are optimistic about the stock. And when Red line goes below the dashed line it means the news is negative and people are pessimistic about the stock.\n",
    "\n",
    "3. When both lines move in same direction then it is easy to predict stock movement. But when both lines move in opposite direction then it is difficult to predict stock movement.\n",
    "\n"
   ]
  },
  {
   "cell_type": "markdown",
   "id": "34b9fe47",
   "metadata": {},
   "source": [
    "Key Observations : \n",
    "1. Observation A (August 13 to August 20):\n",
    "   - Red Line (Sentiment): During this period, the red line keeps going down. It even goes below 0.0, which means the news sentiment was turning negative.\n",
    "   - Blue Line (Volatility): Interestingly, during the same period, the blue line was also going down and reached its lowest point.\n",
    "   - Meaning: Even though the news sentiment was getting more negative, the stock’s volatility was actually decreasing — the market was calming down.\n",
    "\n",
    "2. Observation B (Around August 21):\n",
    "   - Red Line (Sentiment): Suddenly, the red line spikes sharply upward, showing that a very strong positive news event occurred.\n",
    "   - Blue Line (Volatility): At the same time, the blue line, which had been at its lowest, also started rising quickly.\n",
    "   - Meaning: As soon as sentiment turned strongly positive, the stock’s volatility also began to rise.\n",
    "\n",
    "3. Observation C (After September 1):\n",
    "   - Red Line (Sentiment): Sentiment stayed mostly positive during this period.\n",
    "   - Blue Line (Volatility): Meanwhile, the blue line reached its highest point, meaning the stock experienced the most volatility during this time.\n",
    "   - Meaning: The peak volatility happened during a phase of positive sentiment."
   ]
  },
  {
   "cell_type": "code",
   "execution_count": 40,
   "id": "7f282da0",
   "metadata": {},
   "outputs": [
    {
     "name": "stdout",
     "output_type": "stream",
     "text": [
      "\n",
      "--- Correlation Analysis (on Filtered Data) ---\n",
      "                 volatility  sentiment_score\n",
      "volatility         1.000000         0.006434\n",
      "sentiment_score    0.006434         1.000000\n"
     ]
    },
    {
     "data": {
      "image/png": "[encoded data removed]",
      "text/plain": [
       "<Figure size 800x600 with 2 Axes>"
      ]
     },
     "metadata": {},
     "output_type": "display_data"
    }
   ],
   "source": [
    "# Correlation Analysis (on Filtered Data)\n",
    "print(\"\\n--- Correlation Analysis (on Filtered Data) ---\")\n",
    "\n",
    "# Now we will calculate correlation matrix for volatility and sentiment_score using zoomed_df.\n",
    "correlation_matrix = zoomed_df[['volatility', 'sentiment_score']].corr()\n",
    "print(correlation_matrix)\n",
    "\n",
    "plt.figure(figsize=(8, 6))\n",
    "sns.heatmap(correlation_matrix, annot=True, cmap='coolwarm', fmt=\".2f\")\n",
    "plt.title('Correlation Matrix (Filtered Data)')\n",
    "plt.show()"
   ]
  },
  {
   "cell_type": "code",
   "execution_count": 41,
   "id": "e84f5e24",
   "metadata": {},
   "outputs": [
    {
     "data": {
      "image/png": "[encoded data removed]",
      "text/plain": [
       "<Figure size 1000x600 with 1 Axes>"
      ]
     },
     "metadata": {},
     "output_type": "display_data"
    }
   ],
   "source": [
    "# For more better understanding of the data we will use scatter plot.\n",
    "plt.figure(figsize=(10, 6))\n",
    "plt.scatter(zoomed_df['sentiment_score'], zoomed_df['volatility'])\n",
    "plt.title('Scatter Plot: Volatility vs. Sentiment Score')\n",
    "plt.xlabel('Sentiment Score')\n",
    "plt.ylabel('Volatility')\n",
    "plt.axvline(x=0, color='grey', linestyle='--')\n",
    "plt.show()"
   ]
  },
  {
   "cell_type": "markdown",
   "id": "4429b792",
   "metadata": {},
   "source": [
    "Each dot in this scatter plot represent a day.\n",
    "Key Observations :\n",
    "1. The Neutral Wall (Sentiment = 0)\n",
    "   - Dashed line shows neutral news i.e. no positive and negative aspects of news.\n",
    "   - When news was neutral then the volatility can be anything (less, medium or high).\n",
    "\n",
    "2. The Negative Sentiment Zone (Sentiment < 0)\n",
    "   - In this zone the dots are in the lowest part of volatility, there are very less dots in higher volatility reason.\n",
    "   - When the news was negative, the stock movement was always less. When bad news came, there was peace in the market instead of fear.\n",
    "\n",
    "3. The Positive Sentiment Zone (Sentiment > 0)\n",
    "   - Here the dots are spread across the entire graph – at the bottom, in the middle, and at the top.\n",
    "   - The highest points in the  graph (where volatility is more than 0.03) are all in this positive zone only.\n",
    "   - Small movements can happen at any time, but the maximum movement (highest risk) always happened when the mood of the news was positive."
   ]
  },
  {
   "cell_type": "markdown",
   "id": "bb00bfda",
   "metadata": {},
   "source": [
    "This chart clearly shows that the relationship between sentiment and volatility is not linear. It is not that if sentiment increases a little then volatility also increases a little.\n",
    "\n",
    "The relationship is as follows:\n",
    "\n",
    "\"Positive sentiment is a pre-condition for high volatility, but not a guarantee.\"\n",
    "\n",
    "- If you want to see high volatility in a stock, then it is important that the news is positive. There is no big volatility during negative or neutral news.\n",
    "- But, if the news is positive, there is no guarantee that there will be any movement. The market may remain calm.\n",
    "- So, positive news opens the door for high volatility. Negative news keeps that door closed."
   ]
  },
  {
   "cell_type": "markdown",
   "id": "520875c9",
   "metadata": {},
   "source": [
    "Now we will also see the better correlation called Spearman's Rank Correlation. It can easily grasp non-linear relation"
   ]
  },
  {
   "cell_type": "code",
   "execution_count": 42,
   "id": "87e3904d",
   "metadata": {},
   "outputs": [
    {
     "name": "stdout",
     "output_type": "stream",
     "text": [
      "--- Spearman Rank Correlation ---\n",
      "                 volatility  sentiment_score\n",
      "volatility         1.000000        -0.013078\n",
      "sentiment_score   -0.013078         1.000000\n"
     ]
    }
   ],
   "source": [
    "spearman_corr = zoomed_df[['volatility', 'sentiment_score']].corr(method='spearman')\n",
    "print(\"--- Spearman Rank Correlation ---\")\n",
    "print(spearman_corr)"
   ]
  },
  {
   "cell_type": "code",
   "execution_count": 43,
   "id": "8aa1d43f",
   "metadata": {},
   "outputs": [
    {
     "data": {
      "image/png": "[encoded data removed]",
      "text/plain": [
       "<Figure size 640x480 with 2 Axes>"
      ]
     },
     "metadata": {},
     "output_type": "display_data"
    }
   ],
   "source": [
    "sns.heatmap(spearman_corr, annot=True, cmap='coolwarm', fmt=\".2f\")\n",
    "plt.title('Spearman Rank Correlation Matrix')\n",
    "plt.show()"
   ]
  },
  {
   "cell_type": "markdown",
   "id": "0d8d8790",
   "metadata": {},
   "source": [
    "The Direct Answer:\n",
    "Spearman correlation -0.01 (which is the rounded version of -0.013078) is very close to 0.\n",
    "\n",
    "This simply means that there is no consistent monotonic relationship between volatility and sentiment_score.\n",
    "\n",
    "In simple words:\n",
    "It is not at all like this that whenever the rank of sentiment increases (news is positive), the rank of volatility always increases. And it is not the opposite either. There is no consistent pattern between the ranks of both."
   ]
  },
  {
   "cell_type": "markdown",
   "id": "ac567b44",
   "metadata": {},
   "source": [
    "Now we will use Time lag : It is not necessary that the market reacts on the day the news comes. It is possible that the news comes today and its effect is seen on tomorrow or the person's volatility. This is called time lag."
   ]
  },
  {
   "cell_type": "code",
   "execution_count": 45,
   "id": "b4a723a7",
   "metadata": {},
   "outputs": [
    {
     "name": "stdout",
     "output_type": "stream",
     "text": [
      "--- Lagged Correlation Matrix ---\n",
      "volatility         1.000000\n",
      "sentiment_score    0.006434\n",
      "sentiment_lag_1   -0.000049\n",
      "sentiment_lag_2    0.000850\n",
      "sentiment_lag_3    0.033940\n",
      "Name: volatility, dtype: float64\n"
     ]
    }
   ],
   "source": [
    "df_lagged = zoomed_df.copy()\n",
    "df_lagged['sentiment_lag_1'] = df_lagged['sentiment_score'].shift(1)\n",
    "df_lagged['sentiment_lag_2'] = df_lagged['sentiment_score'].shift(2)\n",
    "df_lagged['sentiment_lag_3'] = df_lagged['sentiment_score'].shift(3)\n",
    "\n",
    "lag_corr = df_lagged[['volatility', 'sentiment_score', 'sentiment_lag_1', 'sentiment_lag_2', 'sentiment_lag_3']].corr()\n",
    "print(\"--- Lagged Correlation Matrix ---\")\n",
    "print(lag_corr.loc['volatility'])"
   ]
  },
  {
   "cell_type": "code",
   "execution_count": 46,
   "id": "4e0ab435",
   "metadata": {},
   "outputs": [
    {
     "data": {
      "image/png": "[encoded data removed]",
      "text/plain": [
       "<Figure size 1000x800 with 2 Axes>"
      ]
     },
     "metadata": {},
     "output_type": "display_data"
    }
   ],
   "source": [
    "plt.figure(figsize=(10, 8))\n",
    "sns.heatmap(lag_corr, annot=True, cmap='coolwarm', fmt=\".2f\")\n",
    "plt.title('Lagged Correlation: Volatility vs. Past Sentiment')\n",
    "plt.show()"
   ]
  },
  {
   "cell_type": "markdown",
   "id": "16d3de20",
   "metadata": {},
   "source": [
    "# Conclusion"
   ]
  },
  {
   "cell_type": "markdown",
   "id": "1aaa2f38",
   "metadata": {},
   "source": [
    "Analysis of the Relationship Between News Sentiment and Stock Volatility\n",
    "\n",
    "The initial objective was to test whether news sentiment and stock market volatility are correlated.\n",
    "\n",
    "1. Correlation Analysis\n",
    "\n",
    "  - A Pearson correlation was performed first, which yielded values close to zero, indicating no strong linear relationship.\n",
    "\n",
    "  - To check for potential non-linear effects, a Spearman correlation was conducted. The results were again close to zero, reinforcing the absence of a monotonic relationship.\n",
    "\n",
    "2. Lagged Correlation Analysis\n",
    "\n",
    "  - To investigate whether sentiment influences volatility with a time delay, lagged correlations were computed for up to three previous days. These results also showed near-zero correlations, suggesting no delayed linear effect.\n",
    "\n",
    "3. Key Insight from Visual Analysis\n",
    "\n",
    "  - These statistical “failures” highlighted that the relationship is not continuous or linear.\n",
    "\n",
    "  - Scatter plot analysis revealed that high volatility events occur almost exclusively in the presence of strong positive sentiment.\n",
    "\n",
    "This indicates that sentiment does not predict volatility directly, but it creates the necessary conditions under which volatility spikes are more likely to occur."
   ]
  }
 ],
 "metadata": {
  "kernelspec": {
   "display_name": ".venv (3.12.6)",
   "language": "python",
   "name": "python3"
  },
  "language_info": {
   "codemirror_mode": {
    "name": "ipython",
    "version": 3
   },
   "file_extension": ".py",
   "mimetype": "text/x-python",
   "name": "python",
   "nbconvert_exporter": "python",
   "pygments_lexer": "ipython3",
   "version": "3.12.6"
  }
 },
 "nbformat": 4,
 "nbformat_minor": 5
}
